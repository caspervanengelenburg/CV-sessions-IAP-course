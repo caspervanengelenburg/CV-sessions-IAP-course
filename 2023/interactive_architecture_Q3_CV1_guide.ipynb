{
  "nbformat": 4,
  "nbformat_minor": 0,
  "metadata": {
    "colab": {
      "name": "Copy of Interactive_Arch_Q3_P1.ipynb",
      "provenance": [],
      "collapsed_sections": [],
      "include_colab_link": true
    },
    "kernelspec": {
      "name": "python3",
      "display_name": "Python 3"
    },
    "language_info": {
      "name": "python"
    }
  },
  "cells": [
    {
      "cell_type": "markdown",
      "metadata": {
        "id": "view-in-github",
        "colab_type": "text"
      },
      "source": [
        "<a href=\"https://colab.research.google.com/github/caspervanengelenburg/1on1-prototyping-IA-CV-sessions/blob/main/interactive_architecture_Q3_CV1_guide.ipynb\" target=\"_parent\"><img src=\"https://colab.research.google.com/assets/colab-badge.svg\" alt=\"Open In Colab\"/></a>"
      ]
    },
    {
      "cell_type": "markdown",
      "source": [
        "# **Computer vision session 1 - Python, Google colab, Matplotlib, OpenCV**\n",
        "\n",
        "---"
      ],
      "metadata": {
        "id": "wjlAAi_F8VXr"
      }
    },
    {
      "cell_type": "markdown",
      "source": [
        "## **Access data on Google Colab**\n",
        "This notebook is running remotely on the Google Colab platform, therefore to save and access the images in your personal (local or remote) Google space you need to access your Google drive (gdrive).  We use the virtual drive in our notebook to save and access. Note that \n",
        "You can read images from url if you are not willing to couple your Google drive to your colab.  \n",
        "\n",
        "\n",
        "### **Reading/writing an image from our gdrive**\n",
        "I made a directory on my gdrive to save my Colab notebooks as well as images I read from or write on my drive. I can print my image as a Python array with numbers representing a digital image or visualize an image as a 2D picture. \n",
        "You may skip this cell if you want to import an image from a url. "
      ],
      "metadata": {
        "id": "iUHtPd7yGZ-0"
      }
    },
    {
      "cell_type": "code",
      "source": [
        "#You need to give access to your google drive to mount the virtual drive here\n",
        "import os\n",
        "from google.colab import drive\n",
        "drive.mount('/content/gdrive')\n"
      ],
      "metadata": {
        "colab": {
          "base_uri": "https://localhost:8080/"
        },
        "id": "j4Jkr0wBiAwP",
        "outputId": "2518a983-eeda-4295-9d4f-324ef52811f8"
      },
      "execution_count": null,
      "outputs": [
        {
          "output_type": "stream",
          "name": "stdout",
          "text": [
            "Mounted at /content/gdrive\n"
          ]
        }
      ]
    },
    {
      "cell_type": "markdown",
      "source": [
        "### **Reading an image from a remote source**\n",
        "The image read function can read an image from an online source and display it as in the notebook as well. "
      ],
      "metadata": {
        "id": "V6P1xqUzaswv"
      }
    },
    {
      "cell_type": "code",
      "source": [
        "#To read an image from any url link we need extra library \n",
        "import urllib.request\n",
        "# to create a file-like object from the url\n",
        "url=\"https://i.pinimg.com/originals/70/82/e8/7082e801e270b85ffb2b8a2a74217760.jpg\"\n",
        "req = urllib.request.urlopen(url)"
      ],
      "metadata": {
        "id": "Yg6pMbMHnLFl"
      },
      "execution_count": null,
      "outputs": []
    },
    {
      "cell_type": "markdown",
      "source": [
        "## **Matplotlib Library** \n",
        "\n",
        "\n",
        "---\n",
        "\n",
        "Matplotlib is a comprehensive library for creating static, animated, and interactive visualizations in Python.\n"
      ],
      "metadata": {
        "id": "TbCGinwpTqNo"
      }
    },
    {
      "cell_type": "code",
      "source": [
        "#import necessary library to read and display an image \n",
        "from matplotlib import pyplot as plt"
      ],
      "metadata": {
        "id": "bJLjShGQGhcy"
      },
      "execution_count": null,
      "outputs": []
    },
    {
      "cell_type": "code",
      "source": [
        "#both local and remote images can be read using Jupyter notebook. \n",
        "#read an image from my gdrive\n",
        "mydir = \"/content/gdrive/My Drive/Colab Notebooks/imagdir/pepper.jpg\"\n",
        "img = plt.imread(mydir)"
      ],
      "metadata": {
        "id": "HHo_vkRkjkDq"
      },
      "execution_count": null,
      "outputs": []
    },
    {
      "cell_type": "code",
      "source": [
        "#let's try to read the Google logo \n",
        "img = plt.imread(\"https://pyimagesearch.com/wp-content/uploads/2015/01/google_logo.png\")\n",
        "# image visualization\n",
        "plt.imshow(img)"
      ],
      "metadata": {
        "id": "hCqSRLLHuOF6"
      },
      "execution_count": null,
      "outputs": []
    },
    {
      "cell_type": "code",
      "source": [
        "# read the url file as an image\n",
        "img = plt.imread(req,0)"
      ],
      "metadata": {
        "id": "6EqHi4JlA35i"
      },
      "execution_count": null,
      "outputs": []
    },
    {
      "cell_type": "markdown",
      "source": [
        "### **How an image is represented in Python?** \n",
        "The image data represented as \n",
        "\n",
        "- (M, N) for grayscale images.\n",
        "\n",
        "- (M, N, 3) for RGB images.\n",
        "\n",
        "PNG images are returned as float arrays (0-1). All other formats are returned as intiger arrays. "
      ],
      "metadata": {
        "id": "3gWwvfx-YH_K"
      }
    },
    {
      "cell_type": "code",
      "source": [
        "#what is the size of my image?\n",
        "img.shape\n"
      ],
      "metadata": {
        "colab": {
          "base_uri": "https://localhost:8080/"
        },
        "id": "-FvwH9AWXiiQ",
        "outputId": "70cc5b80-1335-49a4-c80f-2600f7d9a3f6"
      },
      "execution_count": null,
      "outputs": [
        {
          "output_type": "execute_result",
          "data": {
            "text/plain": [
              "(552, 736, 3)"
            ]
          },
          "metadata": {},
          "execution_count": 10
        }
      ]
    },
    {
      "cell_type": "code",
      "source": [
        "#how does an image array look like? What to you read? \n",
        "imread= print(img)"
      ],
      "metadata": {
        "id": "Tu2w_LesY9M-"
      },
      "execution_count": null,
      "outputs": []
    },
    {
      "cell_type": "code",
      "source": [
        "#Let's try specific value\n",
        "imread= print(img[300,400,0])"
      ],
      "metadata": {
        "id": "UEeD4tcefTiV"
      },
      "execution_count": null,
      "outputs": []
    },
    {
      "cell_type": "code",
      "source": [
        "#the image can be visulized uding one line of code \n",
        "imgplot = plt.imshow(img)"
      ],
      "metadata": {
        "id": "pg1mCMXxd4Ag"
      },
      "execution_count": null,
      "outputs": []
    },
    {
      "cell_type": "markdown",
      "source": [
        "### **Image processing with matplotlip** \n",
        "\n",
        "- RGB images decompose color information in 3 channels (matrices) Red, Green, Blue. Each color matrix in a 3d tensor image contains the contribution for each pixel. By selecting each channel and displaying the image accordingly the color channels for all the pixels can be visualized. \n",
        "- Image size can be manipulated by cutting pixels from the width and the hight of the image\n",
        "\n",
        "  "
      ],
      "metadata": {
        "id": "vsXuEd9eb-OW"
      }
    },
    {
      "cell_type": "code",
      "source": [
        "#we can resize the image to eliminate the white pixels surrounding the scene \n",
        "imgresize=img[100:450,250:520,:]\n",
        "plt.imshow(imgresize) "
      ],
      "metadata": {
        "id": "5LMRx9SIlbR5"
      },
      "execution_count": null,
      "outputs": []
    },
    {
      "cell_type": "code",
      "source": [
        "# let's try a color image\n",
        "req = urllib.request.urlopen(\"https://i.pinimg.com/originals/32/ae/1f/32ae1ff77bc598200309bb9eddd11622.jpg\")\n",
        "img = plt.imread(req,0)\n",
        "plt.imshow(img)"
      ],
      "metadata": {
        "id": "i1rgfy1Ffkc6"
      },
      "execution_count": null,
      "outputs": []
    },
    {
      "cell_type": "code",
      "source": [
        "#resize the image\n",
        "imgresize=img[50:410,90:600,:]\n",
        "plt.imshow(imgresize) "
      ],
      "metadata": {
        "id": "l9c0oDWpgX3T"
      },
      "execution_count": null,
      "outputs": []
    },
    {
      "cell_type": "code",
      "source": [
        "#we can visualize the red pixels in the image\n",
        "imgred=imgresize[:,:,0]\n",
        "plt.imshow(imgred) \n",
        "imread= print(imgred)"
      ],
      "metadata": {
        "id": "rB0Er9JtWyPk"
      },
      "execution_count": null,
      "outputs": []
    },
    {
      "cell_type": "code",
      "source": [
        "#we can visualize the green pixels in the image\n",
        "imggreen=imgresize[:,:,1]\n",
        "plt.imshow(imggreen) \n",
        "imread= print(imggreen)"
      ],
      "metadata": {
        "id": "LYI1du6tdo3a"
      },
      "execution_count": null,
      "outputs": []
    },
    {
      "cell_type": "code",
      "source": [
        "#we can visualize the blue pixels in the image\n",
        "imgblue=imgresize[:,:,2]\n",
        "plt.imshow(imgblue) \n",
        "imread= print(imgblue)"
      ],
      "metadata": {
        "id": "yopb84XKdpFy"
      },
      "execution_count": null,
      "outputs": []
    },
    {
      "cell_type": "markdown",
      "source": [
        "Note: The images created here can be saved directly into your Google drive by navigating to the path to your directory using [this line of code](https://matplotlib.org/stable/api/_as_gen/matplotlib.pyplot.savefig.html). \n",
        "\n"
      ],
      "metadata": {
        "id": "IENsw99OD8HB"
      }
    },
    {
      "cell_type": "markdown",
      "source": [
        "## **OpenCV**\n",
        "\n",
        "---\n",
        "There are differnt Python library for Computer Vision (CV). The most popular one is OpenCV that is developed for efficient image processing and real-time CV. Here we use few example function from OpenCV to do basic image manipulations and processing. \n",
        "\n"
      ],
      "metadata": {
        "id": "MK4ZWOzZnIg0"
      }
    },
    {
      "cell_type": "code",
      "source": [
        "# import OpenCV library to read and display an image \n",
        "import cv2"
      ],
      "metadata": {
        "id": "y5aHrbQwQj3E"
      },
      "execution_count": null,
      "outputs": []
    },
    {
      "cell_type": "code",
      "source": [
        "#in opencv to visulize image from url we first need to convert it into array format \n",
        "import numpy as np\n",
        "# to create a file-like object from the url\n",
        "url=\"https://i.pinimg.com/originals/70/82/e8/7082e801e270b85ffb2b8a2a74217760.jpg\"\n",
        "req = urllib.request.urlopen(url)\n",
        "# creat an array from file\n",
        "arr = np.asarray(bytearray(req.read()), dtype=\"uint8\")\n",
        "print(arr.shape)"
      ],
      "metadata": {
        "id": "DTQORDS4mq0J"
      },
      "execution_count": null,
      "outputs": []
    },
    {
      "cell_type": "code",
      "source": [
        "# use imdecode function to convert array to image format \n",
        "img = cv2.imdecode(arr, cv2.IMREAD_COLOR)"
      ],
      "metadata": {
        "id": "yMcbKgOZpsXZ"
      },
      "execution_count": null,
      "outputs": []
    },
    {
      "cell_type": "code",
      "source": [
        "# import visualization library from opencv\n",
        "from google.colab.patches import cv2_imshow\n",
        "cv2_imshow(img)\n"
      ],
      "metadata": {
        "id": "5pTrqJehq934"
      },
      "execution_count": null,
      "outputs": []
    },
    {
      "cell_type": "code",
      "source": [
        "height, width, channels = img.shape\n",
        "print(height,width,channels)"
      ],
      "metadata": {
        "id": "j8yucpjj9chQ"
      },
      "execution_count": null,
      "outputs": []
    },
    {
      "cell_type": "markdown",
      "source": [
        "### **We can do photoshop-like manipulation with OpenCV**"
      ],
      "metadata": {
        "id": "TzFJqOwybyO7"
      }
    },
    {
      "cell_type": "code",
      "source": [
        "# resize image\n",
        "img_resized = cv2.resize(img,(0,0), fx=0.5, fy=0.5)\n",
        "height, width, channels = img_resized.shape\n",
        "print(height,width,channels)\n",
        "cv2_imshow(img_resized)"
      ],
      "metadata": {
        "id": "QONt63y7vxpt"
      },
      "execution_count": null,
      "outputs": []
    },
    {
      "cell_type": "code",
      "source": [
        "# image can be converted to grayscale \n",
        "img_gray = cv2.cvtColor(img, cv2.COLOR_BGR2GRAY)\n",
        "cv2_imshow(img_gray)"
      ],
      "metadata": {
        "id": "Yy3kfEnNVdKE"
      },
      "execution_count": null,
      "outputs": []
    },
    {
      "cell_type": "code",
      "source": [
        "# image can be smoothed using Gaussian filter\n",
        "img_blur = cv2.GaussianBlur(img_gray, (15,15), 0)\n",
        "cv2_imshow(img_blur)"
      ],
      "metadata": {
        "id": "EEifl4C3XC7w"
      },
      "execution_count": null,
      "outputs": []
    },
    {
      "cell_type": "code",
      "source": [
        "# use edge detector filter \n",
        "img_edges = cv2.Canny(image=img, threshold1=50, threshold2=20) \n",
        "cv2_imshow(img_edges)\n"
      ],
      "metadata": {
        "id": "VuS52y2-Xcj8"
      },
      "execution_count": null,
      "outputs": []
    },
    {
      "cell_type": "markdown",
      "source": [
        "### **Let's try another image and use instagram-like filters for image processing**"
      ],
      "metadata": {
        "id": "mNfq8F1Oehpz"
      }
    },
    {
      "cell_type": "code",
      "source": [
        "#read the image from url\n",
        "url=\"https://i.pinimg.com/originals/46/28/c7/4628c7516874f56a0cbfd876ade4f96a.jpg\"\n",
        "req = urllib.request.urlopen(url)\n",
        "# creat an array from file\n",
        "arr = np.asarray(bytearray(req.read()), dtype=\"uint8\")\n",
        "img = cv2.imdecode(arr, cv2.IMREAD_COLOR)\n",
        "cv2_imshow(img)"
      ],
      "metadata": {
        "id": "wiWe4tp_eE6I"
      },
      "execution_count": null,
      "outputs": []
    },
    {
      "cell_type": "code",
      "source": [
        "# brighten the image using beta kernel value\n",
        "img_bright = cv2.convertScaleAbs(img, beta=100)\n",
        "cv2_imshow(img_bright)\n"
      ],
      "metadata": {
        "id": "BiY5qua-cZtq"
      },
      "execution_count": null,
      "outputs": []
    },
    {
      "cell_type": "code",
      "source": [
        "# brighten the image using a kernel \n",
        "kernel = np.array([[-1, -1, -1], [-1, 9.5, -1], [-1, -1, -1]])\n",
        "img_sharpen = cv2.filter2D(img, -1, kernel)\n",
        "cv2_imshow(img_sharpen)"
      ],
      "metadata": {
        "id": "8D8yv2P0h_mD"
      },
      "execution_count": null,
      "outputs": []
    },
    {
      "cell_type": "code",
      "source": [
        "# the HDR effect  \n",
        "img_hdr = cv2.detailEnhance(img, sigma_s=12, sigma_r=0.15)\n",
        "cv2_imshow(img_hdr)"
      ],
      "metadata": {
        "id": "djnH_R1NizxX"
      },
      "execution_count": null,
      "outputs": []
    }
  ]
}